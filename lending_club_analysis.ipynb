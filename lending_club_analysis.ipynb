{
 "cells": [
  {
   "cell_type": "markdown",
   "metadata": {},
   "source": [
    "# Lending Club Dataset Analysis"
   ]
  },
  {
   "cell_type": "markdown",
   "metadata": {},
   "source": [
    "### Problem Statement\n",
    "Analyze the Lending Club dataset [https://www.lendingclub.com/info/download-data.action] and generate a set of key performance metrics for the product management team of a loan product. Come up with some recommendations on how to improve the product / predictability of defaults."
   ]
  },
  {
   "cell_type": "markdown",
   "metadata": {},
   "source": [
    "### Cleaning the Data"
   ]
  },
  {
   "cell_type": "code",
   "execution_count": 1,
   "metadata": {
    "collapsed": false
   },
   "outputs": [
    {
     "name": "stderr",
     "output_type": "stream",
     "text": [
      "/Users/hsu/anaconda/lib/python3.5/site-packages/IPython/core/interactiveshell.py:2723: DtypeWarning: Columns (0) have mixed types. Specify dtype option on import or set low_memory=False.\n",
      "  interactivity=interactivity, compiler=compiler, result=result)\n"
     ]
    }
   ],
   "source": [
    "import numpy as np\n",
    "import pandas as pd\n",
    "%matplotlib inline\n",
    "\n",
    "# read data\n",
    "df = pd.read_csv('LoanStats07_11.csv', skiprows=1)\n",
    "\n",
    "# df.info(verbose=True, null_counts=True)"
   ]
  },
  {
   "cell_type": "markdown",
   "metadata": {},
   "source": [
    "Remove empty features (columns) and observations (rows)."
   ]
  },
  {
   "cell_type": "code",
   "execution_count": 2,
   "metadata": {
    "collapsed": false
   },
   "outputs": [],
   "source": [
    "# chop off empty columns\n",
    "df.drop(df.columns[47:], axis=1, inplace=True)\n",
    "# chop off empty rows\n",
    "df.drop(df.index[42536:], axis=0, inplace=True)\n",
    "df = df[np.isfinite(df['loan_amnt'])]\n",
    "\n",
    "# df.info(verbose=True, null_counts=True)"
   ]
  },
  {
   "cell_type": "markdown",
   "metadata": {},
   "source": [
    "Remove features that 1) have no predictive power [e.g. member_id, url], 2. are non-ordinal, qualitative, and have a feature space close to size n [e.g. title, desc, zip_code], or 3. leaked the correct prediction or ground truth into the test data [e.g. months_since_last delinq, collection_recovery_fee]."
   ]
  },
  {
   "cell_type": "code",
   "execution_count": 3,
   "metadata": {
    "collapsed": false
   },
   "outputs": [],
   "source": [
    "# remove irrelevant columns\n",
    "df.drop(['id', \n",
    "         'member_id', \n",
    "         'sub_grade', \n",
    "         'emp_title', \n",
    "         'pymnt_plan', \n",
    "         'url', \n",
    "         'desc', \n",
    "         'title', \n",
    "         'mths_since_last_delinq', \n",
    "         'mths_since_last_record', \n",
    "         'zip_code', \n",
    "         'pub_rec', \n",
    "         'initial_list_status', \n",
    "         'out_prncp', \n",
    "         'out_prncp_inv', \n",
    "         'recoveries', \n",
    "         'last_pymnt_d', \n",
    "         'last_pymnt_amnt',\n",
    "         'collection_recovery_fee'\n",
    "        ], axis=1, inplace=True)"
   ]
  },
  {
   "cell_type": "markdown",
   "metadata": {},
   "source": [
    "Convert rates from string types to numeric types."
   ]
  },
  {
   "cell_type": "code",
   "execution_count": 4,
   "metadata": {
    "collapsed": false
   },
   "outputs": [],
   "source": [
    "# convert rates to floats\n",
    "df['int_rate'] = pd.Series(df.int_rate).str.replace('%', '').astype(float)\n",
    "df.revol_util = pd.Series(df.revol_util).str.replace('%', '').astype(float)"
   ]
  },
  {
   "cell_type": "markdown",
   "metadata": {},
   "source": [
    "Identify and remove highly correlated / redundant features."
   ]
  },
  {
   "cell_type": "code",
   "execution_count": 5,
   "metadata": {
    "collapsed": false
   },
   "outputs": [
    {
     "data": {
      "text/plain": [
       "funded_amnt      loan_amnt          0.981746\n",
       "funded_amnt_inv  loan_amnt          0.929598\n",
       "                 funded_amnt        0.947525\n",
       "installment      loan_amnt          0.930869\n",
       "                 funded_amnt        0.956522\n",
       "                 funded_amnt_inv    0.890148\n",
       "total_acc        open_acc           0.693161\n",
       "total_pymnt      loan_amnt          0.884529\n",
       "                 funded_amnt        0.900787\n",
       "                 funded_amnt_inv    0.874397\n",
       "                 installment        0.853595\n",
       "total_pymnt_inv  loan_amnt          0.845737\n",
       "                 funded_amnt        0.861747\n",
       "                 funded_amnt_inv    0.914909\n",
       "                 installment        0.804328\n",
       "                 total_pymnt        0.964122\n",
       "total_rec_prncp  loan_amnt          0.848800\n",
       "                 funded_amnt        0.866810\n",
       "                 funded_amnt_inv    0.838624\n",
       "                 installment        0.845690\n",
       "                 total_pymnt        0.971391\n",
       "                 total_pymnt_inv    0.933000\n",
       "total_rec_int    loan_amnt          0.730160\n",
       "                 funded_amnt        0.737443\n",
       "                 funded_amnt_inv    0.727472\n",
       "                 installment        0.634873\n",
       "                 total_pymnt        0.827730\n",
       "                 total_pymnt_inv    0.810408\n",
       "                 total_rec_prncp    0.683486\n",
       "dtype: float64"
      ]
     },
     "execution_count": 5,
     "metadata": {},
     "output_type": "execute_result"
    }
   ],
   "source": [
    "# identify highly correlated attributes\n",
    "cor = df.corr()\n",
    "cor.loc[:,:] = np.tril(cor, k=-1)\n",
    "cor = cor.stack()\n",
    "cor[(cor > 0.55) | (cor < -0.55)]"
   ]
  },
  {
   "cell_type": "code",
   "execution_count": 6,
   "metadata": {
    "collapsed": false
   },
   "outputs": [],
   "source": [
    "# remove redundant columns\n",
    "df.drop(['funded_amnt', \n",
    "         'funded_amnt_inv', \n",
    "         'installment', \n",
    "         'total_acc', \n",
    "         'total_pymnt', \n",
    "         'total_pymnt_inv', \n",
    "         'total_rec_prncp', \n",
    "         'total_rec_int'\n",
    "        ], axis=1, inplace=True)\n",
    "\n",
    "# df.info(verbose=True, null_counts=True)"
   ]
  },
  {
   "cell_type": "markdown",
   "metadata": {},
   "source": [
    "Impute NaN values."
   ]
  },
  {
   "cell_type": "code",
   "execution_count": 7,
   "metadata": {
    "collapsed": false
   },
   "outputs": [],
   "source": [
    "# clean up NaN values\n",
    "df['annual_inc'].fillna((df['annual_inc'].median()), inplace=True)\n",
    "df['delinq_2yrs'].fillna(0, inplace=True)\n",
    "df['inq_last_6mths'].fillna(0, inplace=True)\n",
    "df['open_acc'].fillna((df['open_acc'].median()), inplace=True)\n",
    "df['revol_util'].fillna((df['revol_util'].mean()), inplace=True)\n",
    "\n",
    "# df.info(verbose=True, null_counts=True)"
   ]
  },
  {
   "cell_type": "markdown",
   "metadata": {},
   "source": [
    "Convert emp_length and dates from string types to numeric types."
   ]
  },
  {
   "cell_type": "code",
   "execution_count": 8,
   "metadata": {
    "collapsed": false
   },
   "outputs": [
    {
     "name": "stderr",
     "output_type": "stream",
     "text": [
      "/Users/hsu/anaconda/lib/python3.5/site-packages/ipykernel/__main__.py:4: FutureWarning: convert_objects is deprecated.  Use the data-type specific converters pd.to_datetime, pd.to_timedelta and pd.to_numeric.\n"
     ]
    }
   ],
   "source": [
    "# convert emp_length to int\n",
    "df.emp_length = pd.Series(df.emp_length).str.strip('+ years')\n",
    "df.emp_length = pd.Series(df.emp_length).str.replace('< 1', '0')\n",
    "df['emp_len_new'] = df.emp_length.convert_objects(convert_numeric=True)\n",
    "df['emp_len_new'].fillna((df['emp_len_new'].mean()), inplace=True)\n",
    "df['emp_len_new'] = df['emp_len_new'].astype(int)\n",
    "df.drop(['emp_length'], axis=1, inplace=True)\n",
    "\n",
    "# df.info(verbose=True, null_counts=True)"
   ]
  },
  {
   "cell_type": "code",
   "execution_count": 9,
   "metadata": {
    "collapsed": false
   },
   "outputs": [],
   "source": [
    "# convert earliest_cr_line to \"# of years since\"\n",
    "from datetime import datetime\n",
    "df.earliest_cr_line = pd.to_datetime(df.earliest_cr_line)\n",
    "df['earliest_cr_yr'] = 2016 - df['earliest_cr_line'].dt.year\n",
    "df['earliest_cr_yr'].fillna((df['earliest_cr_yr'].median()), inplace=True)\n",
    "df['earliest_cr_yr'] = df['earliest_cr_yr'].astype(int)\n",
    "df.drop(['earliest_cr_line'], axis=1, inplace=True)"
   ]
  },
  {
   "cell_type": "code",
   "execution_count": 10,
   "metadata": {
    "collapsed": false
   },
   "outputs": [],
   "source": [
    "# convert issue_d to \"# of years since\"\n",
    "df.issue_d = pd.to_datetime(df.issue_d)\n",
    "df['yrs_since_issue'] = 2016 - df['issue_d'].dt.year\n",
    "df['yrs_since_issue'].fillna((df['yrs_since_issue'].median()), inplace=True)\n",
    "df['yrs_since_issue'] = df['yrs_since_issue'].astype(int)\n",
    "df.drop(['issue_d'], axis=1, inplace=True)"
   ]
  },
  {
   "cell_type": "markdown",
   "metadata": {},
   "source": [
    "If memory becomes an issue, convert to smaller data types."
   ]
  },
  {
   "cell_type": "code",
   "execution_count": 11,
   "metadata": {
    "collapsed": false
   },
   "outputs": [],
   "source": [
    "# convert to smaller type\n",
    "# df.loan_amnt = pd.Series(df.loan_amnt).astype(int)\n",
    "# df.dti = pd.Series(df.dti).astype(float)\n",
    "# df.delinq_2yrs = pd.Series(df.delinq_2yrs).astype(int)\n",
    "# df.inq_last_6mths = pd.Series(df.inq_last_6mths).astype(int)\n",
    "# df.open_acc = pd.Series(df.open_acc).astype(int)\n",
    "\n",
    "# df.info(verbose=True, null_counts=True)"
   ]
  },
  {
   "cell_type": "code",
   "execution_count": 12,
   "metadata": {
    "collapsed": false
   },
   "outputs": [
    {
     "data": {
      "text/plain": [
       "loan_amnt              0\n",
       "term                   0\n",
       "int_rate               0\n",
       "grade                  0\n",
       "home_ownership         0\n",
       "annual_inc             0\n",
       "verification_status    0\n",
       "loan_status            0\n",
       "purpose                0\n",
       "addr_state             0\n",
       "dti                    0\n",
       "delinq_2yrs            0\n",
       "inq_last_6mths         0\n",
       "open_acc               0\n",
       "revol_bal              0\n",
       "revol_util             0\n",
       "total_rec_late_fee     0\n",
       "emp_len_new            0\n",
       "earliest_cr_yr         0\n",
       "yrs_since_issue        0\n",
       "dtype: int64"
      ]
     },
     "execution_count": 12,
     "metadata": {},
     "output_type": "execute_result"
    }
   ],
   "source": [
    "# check for nulls\n",
    "df.isnull().sum()"
   ]
  },
  {
   "cell_type": "markdown",
   "metadata": {},
   "source": [
    "Since our model is predicting whether or not a loan has been defaulted on, loans with a \"Current\" status should be removed from the dataset because their default status is not yet known."
   ]
  },
  {
   "cell_type": "code",
   "execution_count": 13,
   "metadata": {
    "collapsed": false
   },
   "outputs": [
    {
     "name": "stdout",
     "output_type": "stream",
     "text": [
      "<class 'pandas.core.frame.DataFrame'>\n",
      "Int64Index: 41202 entries, 0 to 42535\n",
      "Data columns (total 20 columns):\n",
      "loan_amnt              41202 non-null float64\n",
      "term                   41202 non-null object\n",
      "int_rate               41202 non-null float64\n",
      "grade                  41202 non-null object\n",
      "home_ownership         41202 non-null object\n",
      "annual_inc             41202 non-null float64\n",
      "verification_status    41202 non-null object\n",
      "loan_status            41202 non-null object\n",
      "purpose                41202 non-null object\n",
      "addr_state             41202 non-null object\n",
      "dti                    41202 non-null float64\n",
      "delinq_2yrs            41202 non-null float64\n",
      "inq_last_6mths         41202 non-null float64\n",
      "open_acc               41202 non-null float64\n",
      "revol_bal              41202 non-null float64\n",
      "revol_util             41202 non-null float64\n",
      "total_rec_late_fee     41202 non-null float64\n",
      "emp_len_new            41202 non-null int64\n",
      "earliest_cr_yr         41202 non-null int64\n",
      "yrs_since_issue        41202 non-null int64\n",
      "dtypes: float64(10), int64(3), object(7)\n",
      "memory usage: 6.6+ MB\n"
     ]
    }
   ],
   "source": [
    "# drop current loans\n",
    "df = df[df['loan_status'] != 'Current']\n",
    "df.info(verbose=True, null_counts=True)"
   ]
  },
  {
   "cell_type": "code",
   "execution_count": 14,
   "metadata": {
    "collapsed": false,
    "scrolled": true
   },
   "outputs": [
    {
     "data": {
      "text/html": [
       "<div>\n",
       "<table border=\"1\" class=\"dataframe\">\n",
       "  <thead>\n",
       "    <tr style=\"text-align: right;\">\n",
       "      <th></th>\n",
       "      <th>loan_amnt</th>\n",
       "      <th>term</th>\n",
       "      <th>int_rate</th>\n",
       "      <th>grade</th>\n",
       "      <th>home_ownership</th>\n",
       "      <th>annual_inc</th>\n",
       "      <th>verification_status</th>\n",
       "      <th>loan_status</th>\n",
       "      <th>purpose</th>\n",
       "      <th>addr_state</th>\n",
       "      <th>dti</th>\n",
       "      <th>delinq_2yrs</th>\n",
       "      <th>inq_last_6mths</th>\n",
       "      <th>open_acc</th>\n",
       "      <th>revol_bal</th>\n",
       "      <th>revol_util</th>\n",
       "      <th>total_rec_late_fee</th>\n",
       "      <th>emp_len_new</th>\n",
       "      <th>earliest_cr_yr</th>\n",
       "      <th>yrs_since_issue</th>\n",
       "    </tr>\n",
       "  </thead>\n",
       "  <tbody>\n",
       "    <tr>\n",
       "      <th>0</th>\n",
       "      <td>5000.0</td>\n",
       "      <td>36 months</td>\n",
       "      <td>10.65</td>\n",
       "      <td>B</td>\n",
       "      <td>RENT</td>\n",
       "      <td>24000.0</td>\n",
       "      <td>Verified</td>\n",
       "      <td>Fully Paid</td>\n",
       "      <td>credit_card</td>\n",
       "      <td>AZ</td>\n",
       "      <td>27.65</td>\n",
       "      <td>0.0</td>\n",
       "      <td>1.0</td>\n",
       "      <td>3.0</td>\n",
       "      <td>13648.0</td>\n",
       "      <td>83.7</td>\n",
       "      <td>0.00</td>\n",
       "      <td>10</td>\n",
       "      <td>31</td>\n",
       "      <td>5</td>\n",
       "    </tr>\n",
       "    <tr>\n",
       "      <th>1</th>\n",
       "      <td>2500.0</td>\n",
       "      <td>60 months</td>\n",
       "      <td>15.27</td>\n",
       "      <td>C</td>\n",
       "      <td>RENT</td>\n",
       "      <td>30000.0</td>\n",
       "      <td>Source Verified</td>\n",
       "      <td>Charged Off</td>\n",
       "      <td>car</td>\n",
       "      <td>GA</td>\n",
       "      <td>1.00</td>\n",
       "      <td>0.0</td>\n",
       "      <td>5.0</td>\n",
       "      <td>3.0</td>\n",
       "      <td>1687.0</td>\n",
       "      <td>9.4</td>\n",
       "      <td>0.00</td>\n",
       "      <td>0</td>\n",
       "      <td>17</td>\n",
       "      <td>5</td>\n",
       "    </tr>\n",
       "    <tr>\n",
       "      <th>2</th>\n",
       "      <td>2400.0</td>\n",
       "      <td>36 months</td>\n",
       "      <td>15.96</td>\n",
       "      <td>C</td>\n",
       "      <td>RENT</td>\n",
       "      <td>12252.0</td>\n",
       "      <td>Not Verified</td>\n",
       "      <td>Fully Paid</td>\n",
       "      <td>small_business</td>\n",
       "      <td>IL</td>\n",
       "      <td>8.72</td>\n",
       "      <td>0.0</td>\n",
       "      <td>2.0</td>\n",
       "      <td>2.0</td>\n",
       "      <td>2956.0</td>\n",
       "      <td>98.5</td>\n",
       "      <td>0.00</td>\n",
       "      <td>10</td>\n",
       "      <td>15</td>\n",
       "      <td>5</td>\n",
       "    </tr>\n",
       "    <tr>\n",
       "      <th>3</th>\n",
       "      <td>10000.0</td>\n",
       "      <td>36 months</td>\n",
       "      <td>13.49</td>\n",
       "      <td>C</td>\n",
       "      <td>RENT</td>\n",
       "      <td>49200.0</td>\n",
       "      <td>Source Verified</td>\n",
       "      <td>Fully Paid</td>\n",
       "      <td>other</td>\n",
       "      <td>CA</td>\n",
       "      <td>20.00</td>\n",
       "      <td>0.0</td>\n",
       "      <td>1.0</td>\n",
       "      <td>10.0</td>\n",
       "      <td>5598.0</td>\n",
       "      <td>21.0</td>\n",
       "      <td>16.97</td>\n",
       "      <td>10</td>\n",
       "      <td>20</td>\n",
       "      <td>5</td>\n",
       "    </tr>\n",
       "    <tr>\n",
       "      <th>5</th>\n",
       "      <td>5000.0</td>\n",
       "      <td>36 months</td>\n",
       "      <td>7.90</td>\n",
       "      <td>A</td>\n",
       "      <td>RENT</td>\n",
       "      <td>36000.0</td>\n",
       "      <td>Source Verified</td>\n",
       "      <td>Fully Paid</td>\n",
       "      <td>wedding</td>\n",
       "      <td>AZ</td>\n",
       "      <td>11.20</td>\n",
       "      <td>0.0</td>\n",
       "      <td>3.0</td>\n",
       "      <td>9.0</td>\n",
       "      <td>7963.0</td>\n",
       "      <td>28.3</td>\n",
       "      <td>0.00</td>\n",
       "      <td>3</td>\n",
       "      <td>12</td>\n",
       "      <td>5</td>\n",
       "    </tr>\n",
       "  </tbody>\n",
       "</table>\n",
       "</div>"
      ],
      "text/plain": [
       "   loan_amnt        term  int_rate grade home_ownership  annual_inc  \\\n",
       "0     5000.0   36 months     10.65     B           RENT     24000.0   \n",
       "1     2500.0   60 months     15.27     C           RENT     30000.0   \n",
       "2     2400.0   36 months     15.96     C           RENT     12252.0   \n",
       "3    10000.0   36 months     13.49     C           RENT     49200.0   \n",
       "5     5000.0   36 months      7.90     A           RENT     36000.0   \n",
       "\n",
       "  verification_status  loan_status         purpose addr_state    dti  \\\n",
       "0            Verified   Fully Paid     credit_card         AZ  27.65   \n",
       "1     Source Verified  Charged Off             car         GA   1.00   \n",
       "2        Not Verified   Fully Paid  small_business         IL   8.72   \n",
       "3     Source Verified   Fully Paid           other         CA  20.00   \n",
       "5     Source Verified   Fully Paid         wedding         AZ  11.20   \n",
       "\n",
       "   delinq_2yrs  inq_last_6mths  open_acc  revol_bal  revol_util  \\\n",
       "0          0.0             1.0       3.0    13648.0        83.7   \n",
       "1          0.0             5.0       3.0     1687.0         9.4   \n",
       "2          0.0             2.0       2.0     2956.0        98.5   \n",
       "3          0.0             1.0      10.0     5598.0        21.0   \n",
       "5          0.0             3.0       9.0     7963.0        28.3   \n",
       "\n",
       "   total_rec_late_fee  emp_len_new  earliest_cr_yr  yrs_since_issue  \n",
       "0                0.00           10              31                5  \n",
       "1                0.00            0              17                5  \n",
       "2                0.00           10              15                5  \n",
       "3               16.97           10              20                5  \n",
       "5                0.00            3              12                5  "
      ]
     },
     "execution_count": 14,
     "metadata": {},
     "output_type": "execute_result"
    }
   ],
   "source": [
    "df.head()"
   ]
  },
  {
   "cell_type": "markdown",
   "metadata": {},
   "source": [
    "Encode labels."
   ]
  },
  {
   "cell_type": "code",
   "execution_count": 15,
   "metadata": {
    "collapsed": false
   },
   "outputs": [
    {
     "data": {
      "text/plain": [
       "array(['Fully Paid', 'Charged Off', 'Late (31-120 days)',\n",
       "       'In Grace Period', 'Late (16-30 days)', 'Default'], dtype=object)"
      ]
     },
     "execution_count": 15,
     "metadata": {},
     "output_type": "execute_result"
    }
   ],
   "source": [
    "df = df[df['loan_status'] != \n",
    "        'Does not meet the credit policy. Status:Fully Paid']\n",
    "df = df[df['loan_status'] != \n",
    "        'Does not meet the credit policy. Status:Charged Off']\n",
    "df['loan_status'].unique()"
   ]
  },
  {
   "cell_type": "code",
   "execution_count": 16,
   "metadata": {
    "collapsed": false
   },
   "outputs": [],
   "source": [
    "df['loan_status_clean'] = df['loan_status'].map({'Fully Paid': 1, \n",
    "                                                 'Charged Off': 0, \n",
    "                                                 'Late (31-120 days)': 0, \n",
    "                                                 'In Grace Period': 0, \n",
    "                                                 'Late (16-30 days)': 0, \n",
    "                                                 'Default': 0})\n",
    "df['loan_status_clean'] =  df['loan_status_clean'].astype(int)\n",
    "df.drop(['loan_status'], axis=1, inplace=True)"
   ]
  },
  {
   "cell_type": "markdown",
   "metadata": {},
   "source": [
    "Ordinal encoding of features where applicable."
   ]
  },
  {
   "cell_type": "code",
   "execution_count": 17,
   "metadata": {
    "collapsed": false
   },
   "outputs": [],
   "source": [
    "# ordinal mapping of term\n",
    "term_mapping = {' 36 months': 1, ' 60 months': 2}\n",
    "df['term'] = df['term'].map(term_mapping)"
   ]
  },
  {
   "cell_type": "code",
   "execution_count": 18,
   "metadata": {
    "collapsed": true
   },
   "outputs": [],
   "source": [
    "# ordinal mapping of grade\n",
    "grade_mapping = {'A': 7, 'B': 6, 'C': 5, 'D': 4, 'E': 3, 'F': 2, 'G': 1}\n",
    "df['grade'] = df['grade'].map(grade_mapping)"
   ]
  },
  {
   "cell_type": "code",
   "execution_count": 19,
   "metadata": {
    "collapsed": true
   },
   "outputs": [],
   "source": [
    "# ordinal mapping of verification_status\n",
    "vs_mapping = {'Verified': 3, \n",
    "              'Source Verified': 2, \n",
    "              'Not Verified': 1}\n",
    "df['verification_status'] = df['verification_status'].map(vs_mapping)"
   ]
  },
  {
   "cell_type": "markdown",
   "metadata": {},
   "source": [
    "One-hot encoding of qualitative features."
   ]
  },
  {
   "cell_type": "code",
   "execution_count": 20,
   "metadata": {
    "collapsed": false
   },
   "outputs": [],
   "source": [
    "# one-hot encoding of qualitative features\n",
    "# just_dummies = pd.get_dummies(df[['home_ownership', 'purpose', 'addr_state']])\n",
    "# df = pd.concat([df, just_dummies], axis=1)\n",
    "df.drop(['home_ownership', 'purpose', 'addr_state'], axis=1, inplace=True)\n",
    "# df.info(verbose=True, null_counts=True)"
   ]
  },
  {
   "cell_type": "code",
   "execution_count": 21,
   "metadata": {
    "collapsed": false
   },
   "outputs": [
    {
     "data": {
      "text/html": [
       "<div>\n",
       "<table border=\"1\" class=\"dataframe\">\n",
       "  <thead>\n",
       "    <tr style=\"text-align: right;\">\n",
       "      <th></th>\n",
       "      <th>loan_status_clean</th>\n",
       "      <th>loan_amnt</th>\n",
       "      <th>term</th>\n",
       "      <th>int_rate</th>\n",
       "      <th>grade</th>\n",
       "      <th>annual_inc</th>\n",
       "      <th>verification_status</th>\n",
       "      <th>dti</th>\n",
       "      <th>delinq_2yrs</th>\n",
       "      <th>inq_last_6mths</th>\n",
       "      <th>open_acc</th>\n",
       "      <th>revol_bal</th>\n",
       "      <th>revol_util</th>\n",
       "      <th>total_rec_late_fee</th>\n",
       "      <th>emp_len_new</th>\n",
       "      <th>earliest_cr_yr</th>\n",
       "      <th>yrs_since_issue</th>\n",
       "    </tr>\n",
       "  </thead>\n",
       "  <tbody>\n",
       "    <tr>\n",
       "      <th>0</th>\n",
       "      <td>1</td>\n",
       "      <td>5000.0</td>\n",
       "      <td>1</td>\n",
       "      <td>10.65</td>\n",
       "      <td>6</td>\n",
       "      <td>24000.0</td>\n",
       "      <td>3</td>\n",
       "      <td>27.65</td>\n",
       "      <td>0.0</td>\n",
       "      <td>1.0</td>\n",
       "      <td>3.0</td>\n",
       "      <td>13648.0</td>\n",
       "      <td>83.7</td>\n",
       "      <td>0.00</td>\n",
       "      <td>10</td>\n",
       "      <td>31</td>\n",
       "      <td>5</td>\n",
       "    </tr>\n",
       "    <tr>\n",
       "      <th>1</th>\n",
       "      <td>0</td>\n",
       "      <td>2500.0</td>\n",
       "      <td>2</td>\n",
       "      <td>15.27</td>\n",
       "      <td>5</td>\n",
       "      <td>30000.0</td>\n",
       "      <td>2</td>\n",
       "      <td>1.00</td>\n",
       "      <td>0.0</td>\n",
       "      <td>5.0</td>\n",
       "      <td>3.0</td>\n",
       "      <td>1687.0</td>\n",
       "      <td>9.4</td>\n",
       "      <td>0.00</td>\n",
       "      <td>0</td>\n",
       "      <td>17</td>\n",
       "      <td>5</td>\n",
       "    </tr>\n",
       "    <tr>\n",
       "      <th>2</th>\n",
       "      <td>1</td>\n",
       "      <td>2400.0</td>\n",
       "      <td>1</td>\n",
       "      <td>15.96</td>\n",
       "      <td>5</td>\n",
       "      <td>12252.0</td>\n",
       "      <td>1</td>\n",
       "      <td>8.72</td>\n",
       "      <td>0.0</td>\n",
       "      <td>2.0</td>\n",
       "      <td>2.0</td>\n",
       "      <td>2956.0</td>\n",
       "      <td>98.5</td>\n",
       "      <td>0.00</td>\n",
       "      <td>10</td>\n",
       "      <td>15</td>\n",
       "      <td>5</td>\n",
       "    </tr>\n",
       "    <tr>\n",
       "      <th>3</th>\n",
       "      <td>1</td>\n",
       "      <td>10000.0</td>\n",
       "      <td>1</td>\n",
       "      <td>13.49</td>\n",
       "      <td>5</td>\n",
       "      <td>49200.0</td>\n",
       "      <td>2</td>\n",
       "      <td>20.00</td>\n",
       "      <td>0.0</td>\n",
       "      <td>1.0</td>\n",
       "      <td>10.0</td>\n",
       "      <td>5598.0</td>\n",
       "      <td>21.0</td>\n",
       "      <td>16.97</td>\n",
       "      <td>10</td>\n",
       "      <td>20</td>\n",
       "      <td>5</td>\n",
       "    </tr>\n",
       "    <tr>\n",
       "      <th>5</th>\n",
       "      <td>1</td>\n",
       "      <td>5000.0</td>\n",
       "      <td>1</td>\n",
       "      <td>7.90</td>\n",
       "      <td>7</td>\n",
       "      <td>36000.0</td>\n",
       "      <td>2</td>\n",
       "      <td>11.20</td>\n",
       "      <td>0.0</td>\n",
       "      <td>3.0</td>\n",
       "      <td>9.0</td>\n",
       "      <td>7963.0</td>\n",
       "      <td>28.3</td>\n",
       "      <td>0.00</td>\n",
       "      <td>3</td>\n",
       "      <td>12</td>\n",
       "      <td>5</td>\n",
       "    </tr>\n",
       "  </tbody>\n",
       "</table>\n",
       "</div>"
      ],
      "text/plain": [
       "   loan_status_clean  loan_amnt  term  int_rate  grade  annual_inc  \\\n",
       "0                  1     5000.0     1     10.65      6     24000.0   \n",
       "1                  0     2500.0     2     15.27      5     30000.0   \n",
       "2                  1     2400.0     1     15.96      5     12252.0   \n",
       "3                  1    10000.0     1     13.49      5     49200.0   \n",
       "5                  1     5000.0     1      7.90      7     36000.0   \n",
       "\n",
       "   verification_status    dti  delinq_2yrs  inq_last_6mths  open_acc  \\\n",
       "0                    3  27.65          0.0             1.0       3.0   \n",
       "1                    2   1.00          0.0             5.0       3.0   \n",
       "2                    1   8.72          0.0             2.0       2.0   \n",
       "3                    2  20.00          0.0             1.0      10.0   \n",
       "5                    2  11.20          0.0             3.0       9.0   \n",
       "\n",
       "   revol_bal  revol_util  total_rec_late_fee  emp_len_new  earliest_cr_yr  \\\n",
       "0    13648.0        83.7                0.00           10              31   \n",
       "1     1687.0         9.4                0.00            0              17   \n",
       "2     2956.0        98.5                0.00           10              15   \n",
       "3     5598.0        21.0               16.97           10              20   \n",
       "5     7963.0        28.3                0.00            3              12   \n",
       "\n",
       "   yrs_since_issue  \n",
       "0                5  \n",
       "1                5  \n",
       "2                5  \n",
       "3                5  \n",
       "5                5  "
      ]
     },
     "execution_count": 21,
     "metadata": {},
     "output_type": "execute_result"
    }
   ],
   "source": [
    "# move labels to first column\n",
    "cols = df.columns.tolist()\n",
    "cols = cols[-1:] + cols[:-1]\n",
    "df = df[cols]\n",
    "df.head()"
   ]
  },
  {
   "cell_type": "markdown",
   "metadata": {},
   "source": [
    "Now that our dataset is cleaned up, let's try applying a few machine learning models and drawing insights from them."
   ]
  },
  {
   "cell_type": "markdown",
   "metadata": {},
   "source": [
    "# Analyzing the Data"
   ]
  },
  {
   "cell_type": "markdown",
   "metadata": {},
   "source": [
    "### Assessing Feature Importance with Random Forests"
   ]
  },
  {
   "cell_type": "code",
   "execution_count": 22,
   "metadata": {
    "collapsed": true
   },
   "outputs": [],
   "source": [
    "# split data set into training and test sets\n",
    "from sklearn.cross_validation import train_test_split\n",
    "X, y = df.iloc[:, 1:].values, df.iloc[:, 0].values\n",
    "X_train, X_test, y_train, y_test = train_test_split(X, y, test_size=0.3, random_state=0)"
   ]
  },
  {
   "cell_type": "code",
   "execution_count": 23,
   "metadata": {
    "collapsed": false
   },
   "outputs": [
    {
     "name": "stdout",
     "output_type": "stream",
     "text": [
      "Training accuracy: 1.0\n",
      "Test accuracy: 0.859483356449\n"
     ]
    }
   ],
   "source": [
    "import matplotlib.pyplot as plt\n",
    "from sklearn.ensemble import RandomForestClassifier\n",
    "\n",
    "feat_labels = df.columns[1:]\n",
    "\n",
    "forest = RandomForestClassifier(criterion='entropy',\n",
    "                                n_estimators=1000,\n",
    "                                random_state=1,\n",
    "                                n_jobs=-1)\n",
    "\n",
    "forest.fit(X_train, y_train)\n",
    "print('Training accuracy:', forest.score(X_train, y_train))\n",
    "print('Test accuracy:', forest.score(X_test, y_test))"
   ]
  },
  {
   "cell_type": "markdown",
   "metadata": {},
   "source": [
    "Using a random forest, we can measure feature importance as the averaged **\"impurity decrease\"** (that is, choose the feature that when split on, maximized the difference between the impurity of the parent node and the sum of the impurities of the child nodes) computed from all the decision trees in the forest."
   ]
  },
  {
   "cell_type": "code",
   "execution_count": 24,
   "metadata": {
    "collapsed": false
   },
   "outputs": [
    {
     "name": "stdout",
     "output_type": "stream",
     "text": [
      " 1) annual_inc                     0.106454\n",
      " 2) revol_util                     0.106001\n",
      " 3) revol_bal                      0.105287\n",
      " 4) dti                            0.104738\n",
      " 5) int_rate                       0.104256\n",
      " 6) loan_amnt                      0.086385\n",
      " 7) earliest_cr_yr                 0.074673\n",
      " 8) open_acc                       0.065662\n",
      " 9) emp_len_new                    0.052533\n",
      "10) total_rec_late_fee             0.052333\n",
      "11) inq_last_6mths                 0.031308\n",
      "12) grade                          0.030681\n",
      "13) term                           0.022990\n",
      "14) verification_status            0.022434\n",
      "15) yrs_since_issue                0.022155\n",
      "16) delinq_2yrs                    0.012111\n"
     ]
    },
    {
     "data": {
      "image/png": "[encoded data removed]",
      "text/plain": [
       "<matplotlib.figure.Figure at 0x114d454e0>"
      ]
     },
     "metadata": {},
     "output_type": "display_data"
    }
   ],
   "source": [
    "importances = forest.feature_importances_\n",
    "indices = np.argsort(importances)[::-1]\n",
    "\n",
    "for f in range(X_train.shape[1]):\n",
    "    print(\"%2d) %-*s %f\" % (f + 1, 30, \n",
    "                            feat_labels[indices[f]], \n",
    "                            importances[indices[f]]))\n",
    "\n",
    "plt.title('Feature Importances')\n",
    "plt.bar(range(X_train.shape[1]), \n",
    "        importances[indices],\n",
    "        color='lightblue', \n",
    "        align='center')\n",
    "\n",
    "plt.xticks(range(X_train.shape[1]), \n",
    "           feat_labels[indices], rotation=90)\n",
    "plt.xlim([-1, X_train.shape[1]])\n",
    "plt.tight_layout()\n",
    "#plt.savefig('./random_forest.png', dpi=300)\n",
    "plt.show()"
   ]
  },
  {
   "cell_type": "markdown",
   "metadata": {},
   "source": [
    "It looks like annual income, revolving utilization, revolving balance, DTI, and interest rates are the most important/predictive features in the model. Seems reasonable. Interestingly, none of these features seem to be highly correlated when examined pair-wise."
   ]
  },
  {
   "cell_type": "markdown",
   "metadata": {},
   "source": [
    "### Default Prediction Using Logistic Regression"
   ]
  },
  {
   "cell_type": "code",
   "execution_count": 25,
   "metadata": {
    "collapsed": true
   },
   "outputs": [],
   "source": [
    "from sklearn.preprocessing import StandardScaler\n",
    "\n",
    "sc = StandardScaler()\n",
    "sc.fit(X_train)\n",
    "X_train_std = sc.transform(X_train)\n",
    "X_test_std = sc.transform(X_test)"
   ]
  },
  {
   "cell_type": "code",
   "execution_count": 26,
   "metadata": {
    "collapsed": false
   },
   "outputs": [
    {
     "name": "stdout",
     "output_type": "stream",
     "text": [
      "Training accuracy: 0.8565590519\n",
      "Test accuracy: 0.849861303745\n"
     ]
    }
   ],
   "source": [
    "from sklearn.linear_model import LogisticRegression\n",
    "LogisticRegression(penalty='l1')\n",
    "lr = LogisticRegression(penalty='l1', C=10000, random_state=1)\n",
    "lr.fit(X_train_std, y_train)\n",
    "print('Training accuracy:', lr.score(X_train_std, y_train))\n",
    "print('Test accuracy:', lr.score(X_test_std, y_test))"
   ]
  },
  {
   "cell_type": "markdown",
   "metadata": {},
   "source": [
    "### Assessing Bias/Variance Trade-off with Learning Curves"
   ]
  },
  {
   "cell_type": "code",
   "execution_count": 27,
   "metadata": {
    "collapsed": false
   },
   "outputs": [
    {
     "data": {
      "image/png": "[encoded data removed]",
      "text/plain": [
       "<matplotlib.figure.Figure at 0x1188986d8>"
      ]
     },
     "metadata": {},
     "output_type": "display_data"
    }
   ],
   "source": [
    "from sklearn.learning_curve import learning_curve\n",
    "from sklearn.pipeline import Pipeline\n",
    "\n",
    "pipe_lr = Pipeline([('scl', StandardScaler()),\n",
    "                    ('clf', LogisticRegression(penalty='l1', C=10000, random_state=1))])\n",
    "\n",
    "train_sizes, train_scores, test_scores = learning_curve(estimator=pipe_lr,\n",
    "                                                   X=X_train,\n",
    "                                                   y=y_train,\n",
    "                                                   train_sizes=np.linspace(0.1, 1.0, 10),\n",
    "                                                   cv=10,\n",
    "                                                   n_jobs=1)\n",
    "\n",
    "train_mean = np.mean(train_scores, axis=1)\n",
    "train_std = np.std(train_scores, axis=1)\n",
    "test_mean = np.mean(test_scores, axis=1)\n",
    "test_std = np.std(test_scores, axis=1)\n",
    "\n",
    "plt.plot(train_sizes, train_mean,\n",
    "         color='blue', marker='o',\n",
    "         markersize=5, label='training accuracy')\n",
    "\n",
    "plt.fill_between(train_sizes,\n",
    "                 train_mean + train_std,\n",
    "                 train_mean - train_std,\n",
    "                 alpha=0.15, color='blue')\n",
    "\n",
    "plt.plot(train_sizes, test_mean,\n",
    "         color='green', linestyle='--',\n",
    "         marker='s', markersize=5,\n",
    "         label='validation accuracy')\n",
    "\n",
    "plt.fill_between(train_sizes,\n",
    "                 test_mean + test_std,\n",
    "                 test_mean - test_std,\n",
    "                 alpha=0.15, color='green')\n",
    "\n",
    "plt.grid()\n",
    "plt.xlabel('Number of training samples')\n",
    "plt.ylabel('Accuracy')\n",
    "plt.legend(loc='lower right')\n",
    "plt.ylim([0.8, 1.0])\n",
    "plt.tight_layout()\n",
    "# plt.savefig('./figures/learning_curve.png', dpi=300)\n",
    "plt.show()"
   ]
  },
  {
   "cell_type": "markdown",
   "metadata": {},
   "source": [
    "Judging by the learning curves, I would say the model suffers from high bias. The training and validation curves converge, but at a low level of accuracy. Adding more training examples wouldn't help, as the training and validation curves converge very early. If I had more time, I would do more feature engineering (e.g. adding more features, adding higher order features) to increase the flexibility of the model. Increasing C, the inverse regularization parameter, doesn't seem to do much."
   ]
  },
  {
   "cell_type": "code",
   "execution_count": 28,
   "metadata": {
    "collapsed": false
   },
   "outputs": [
    {
     "data": {
      "text/plain": [
       "array([[  1.89055716e-02,  -2.96673936e-01,  -5.46738814e-01,\n",
       "         -1.25158975e-01,   4.90422758e-01,   7.89695495e-03,\n",
       "          6.00784375e-03,  -4.58965378e-04,  -1.52643124e-01,\n",
       "          8.21346885e-03,  -5.18914996e-02,  -9.40581352e-02,\n",
       "         -2.95614566e-01,  -2.43960464e-02,  -5.02672917e-02,\n",
       "         -1.94921607e-02]])"
      ]
     },
     "execution_count": 28,
     "metadata": {},
     "output_type": "execute_result"
    }
   ],
   "source": [
    "# logistic regression model weights\n",
    "lr.coef_"
   ]
  }
 ],
 "metadata": {
  "kernelspec": {
   "display_name": "Python 3",
   "language": "python",
   "name": "python3"
  },
  "language_info": {
   "codemirror_mode": {
    "name": "ipython",
    "version": 3
   },
   "file_extension": ".py",
   "mimetype": "text/x-python",
   "name": "python",
   "nbconvert_exporter": "python",
   "pygments_lexer": "ipython3",
   "version": "3.5.1"
  }
 },
 "nbformat": 4,
 "nbformat_minor": 0
}
